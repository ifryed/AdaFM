{
 "cells": [
  {
   "cell_type": "code",
   "execution_count": 1,
   "metadata": {},
   "outputs": [],
   "source": [
    "import pandas as pd\n",
    "import numpy as np"
   ]
  },
  {
   "cell_type": "code",
   "execution_count": 2,
   "metadata": {},
   "outputs": [],
   "source": [
    "def bestAlphaPSNR(df,noise,texture):\n",
    "    n_data = df[df['noise']==noise]\n",
    "    n_data = n_data[n_data['texture']==texture]\n",
    "    max_val = n_data['psnr'].max()\n",
    "    return n_data[data['psnr']==max_val]['alpha'].values[0], max_val"
   ]
  },
  {
   "cell_type": "code",
   "execution_count": 12,
   "metadata": {},
   "outputs": [],
   "source": [
    "data = pd.read_csv('../../results/patch_test_canny_gt/summary.txt',sep='\\t')\n",
    "# data = pd.read_csv('../../results/patch_test_dct_gt/summary.txt',sep='\\t')"
   ]
  },
  {
   "cell_type": "code",
   "execution_count": 13,
   "metadata": {
    "scrolled": true
   },
   "outputs": [
    {
     "name": "stdout",
     "output_type": "stream",
     "text": [
      "noisy5\t0.0\t36.009\t0.0\t33.782\t0.0\t33.460\t0.0\t33.103\t0.0\t33.059\t\n",
      "noisy10\t0.0\t35.794\t0.0\t33.607\t0.0\t32.782\t0.0\t32.170\t0.0\t31.578\t\n",
      "noisy15\t0.0\t34.926\t0.0\t32.707\t0.0\t31.689\t0.0\t30.818\t0.0\t29.821\t\n",
      "noisy25\t0.2\t32.226\t0.2\t29.626\t0.2\t28.450\t0.2\t27.389\t0.2\t26.309\t\n",
      "noisy35\t0.4\t30.228\t0.3\t27.646\t0.3\t26.619\t0.3\t25.558\t0.3\t24.380\t\n",
      "noisy50\t0.6\t28.010\t0.6\t25.859\t0.6\t24.552\t0.6\t23.319\t0.6\t22.069\t\n"
     ]
    },
    {
     "name": "stderr",
     "output_type": "stream",
     "text": [
      "c:\\python\\python37\\lib\\site-packages\\ipykernel_launcher.py:5: UserWarning: Boolean Series key will be reindexed to match DataFrame index.\n",
      "  \"\"\"\n"
     ]
    }
   ],
   "source": [
    "noises = list(np.unique(data['noise']))\n",
    "noises.sort(key=lambda x:int(x[5:]))\n",
    "sep = '\\t'\n",
    "\n",
    "for n in noises:\n",
    "    print(n,end=sep)\n",
    "    for t in list(np.unique(data['texture'])):\n",
    "        print(\"{}\\t{:.3f}\".format(*bestAlphaPSNR(data,n,t)),end=sep)\n",
    "    print()\n",
    "\n"
   ]
  },
  {
   "cell_type": "code",
   "execution_count": null,
   "metadata": {},
   "outputs": [],
   "source": []
  }
 ],
 "metadata": {
  "kernelspec": {
   "display_name": "Python 3",
   "language": "python",
   "name": "python3"
  },
  "language_info": {
   "codemirror_mode": {
    "name": "ipython",
    "version": 3
   },
   "file_extension": ".py",
   "mimetype": "text/x-python",
   "name": "python",
   "nbconvert_exporter": "python",
   "pygments_lexer": "ipython3",
   "version": "3.7.5"
  }
 },
 "nbformat": 4,
 "nbformat_minor": 4
}

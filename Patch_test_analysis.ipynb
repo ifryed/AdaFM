{
 "cells": [
  {
   "cell_type": "code",
   "execution_count": 40,
   "metadata": {},
   "outputs": [],
   "source": [
    "import pandas as pd\n",
    "import numpy as np"
   ]
  },
  {
   "cell_type": "code",
   "execution_count": 60,
   "metadata": {},
   "outputs": [
    {
     "data": {
      "text/html": [
       "<div>\n",
       "<style scoped>\n",
       "    .dataframe tbody tr th:only-of-type {\n",
       "        vertical-align: middle;\n",
       "    }\n",
       "\n",
       "    .dataframe tbody tr th {\n",
       "        vertical-align: top;\n",
       "    }\n",
       "\n",
       "    .dataframe thead th {\n",
       "        text-align: right;\n",
       "    }\n",
       "</style>\n",
       "<table border=\"1\" class=\"dataframe\">\n",
       "  <thead>\n",
       "    <tr style=\"text-align: right;\">\n",
       "      <th></th>\n",
       "      <th>noise</th>\n",
       "      <th>texture</th>\n",
       "      <th>alpha</th>\n",
       "      <th>psnr</th>\n",
       "    </tr>\n",
       "  </thead>\n",
       "  <tbody>\n",
       "    <tr>\n",
       "      <th>0</th>\n",
       "      <td>noisy10</td>\n",
       "      <td>text_0</td>\n",
       "      <td>0.0</td>\n",
       "      <td>35.95738</td>\n",
       "    </tr>\n",
       "    <tr>\n",
       "      <th>1</th>\n",
       "      <td>noisy10</td>\n",
       "      <td>text_0</td>\n",
       "      <td>0.1</td>\n",
       "      <td>34.75739</td>\n",
       "    </tr>\n",
       "    <tr>\n",
       "      <th>2</th>\n",
       "      <td>noisy10</td>\n",
       "      <td>text_0</td>\n",
       "      <td>0.2</td>\n",
       "      <td>33.78428</td>\n",
       "    </tr>\n",
       "    <tr>\n",
       "      <th>3</th>\n",
       "      <td>noisy10</td>\n",
       "      <td>text_0</td>\n",
       "      <td>0.3</td>\n",
       "      <td>32.92492</td>\n",
       "    </tr>\n",
       "    <tr>\n",
       "      <th>4</th>\n",
       "      <td>noisy10</td>\n",
       "      <td>text_0</td>\n",
       "      <td>0.4</td>\n",
       "      <td>32.09637</td>\n",
       "    </tr>\n",
       "    <tr>\n",
       "      <th>...</th>\n",
       "      <td>...</td>\n",
       "      <td>...</td>\n",
       "      <td>...</td>\n",
       "      <td>...</td>\n",
       "    </tr>\n",
       "    <tr>\n",
       "      <th>325</th>\n",
       "      <td>noisy50</td>\n",
       "      <td>text_4</td>\n",
       "      <td>0.6</td>\n",
       "      <td>26.17896</td>\n",
       "    </tr>\n",
       "    <tr>\n",
       "      <th>326</th>\n",
       "      <td>noisy50</td>\n",
       "      <td>text_4</td>\n",
       "      <td>0.7</td>\n",
       "      <td>26.04385</td>\n",
       "    </tr>\n",
       "    <tr>\n",
       "      <th>327</th>\n",
       "      <td>noisy50</td>\n",
       "      <td>text_4</td>\n",
       "      <td>0.8</td>\n",
       "      <td>25.63805</td>\n",
       "    </tr>\n",
       "    <tr>\n",
       "      <th>328</th>\n",
       "      <td>noisy50</td>\n",
       "      <td>text_4</td>\n",
       "      <td>0.9</td>\n",
       "      <td>25.10675</td>\n",
       "    </tr>\n",
       "    <tr>\n",
       "      <th>329</th>\n",
       "      <td>noisy50</td>\n",
       "      <td>text_4</td>\n",
       "      <td>1.0</td>\n",
       "      <td>24.56671</td>\n",
       "    </tr>\n",
       "  </tbody>\n",
       "</table>\n",
       "<p>330 rows × 4 columns</p>\n",
       "</div>"
      ],
      "text/plain": [
       "       noise texture  alpha      psnr\n",
       "0    noisy10  text_0    0.0  35.95738\n",
       "1    noisy10  text_0    0.1  34.75739\n",
       "2    noisy10  text_0    0.2  33.78428\n",
       "3    noisy10  text_0    0.3  32.92492\n",
       "4    noisy10  text_0    0.4  32.09637\n",
       "..       ...     ...    ...       ...\n",
       "325  noisy50  text_4    0.6  26.17896\n",
       "326  noisy50  text_4    0.7  26.04385\n",
       "327  noisy50  text_4    0.8  25.63805\n",
       "328  noisy50  text_4    0.9  25.10675\n",
       "329  noisy50  text_4    1.0  24.56671\n",
       "\n",
       "[330 rows x 4 columns]"
      ]
     },
     "execution_count": 60,
     "metadata": {},
     "output_type": "execute_result"
    }
   ],
   "source": [
    "data = pd.read_csv('results/patch_test_canny/summary.txt',sep='\\t')\n",
    "\n",
    "data"
   ]
  },
  {
   "cell_type": "code",
   "execution_count": 61,
   "metadata": {},
   "outputs": [
    {
     "name": "stderr",
     "output_type": "stream",
     "text": [
      "c:\\python\\python37\\lib\\site-packages\\ipykernel_launcher.py:3: UserWarning: Boolean Series key will be reindexed to match DataFrame index.\n",
      "  This is separate from the ipykernel package so we can avoid doing imports until\n"
     ]
    },
    {
     "data": {
      "text/plain": [
       "0    0.0\n",
       "Name: alpha, dtype: float64"
      ]
     },
     "execution_count": 61,
     "metadata": {},
     "output_type": "execute_result"
    }
   ],
   "source": [
    "n_data = data[data['noise']=='noisy10']\n",
    "max_val = n_data['psnr'].max()\n",
    "n_data[data['psnr']==max_val]['alpha']\n"
   ]
  },
  {
   "cell_type": "code",
   "execution_count": 62,
   "metadata": {},
   "outputs": [],
   "source": [
    "def bestAlphaPSNR(df,noise,texture):\n",
    "    n_data = df[df['noise']==noise]\n",
    "    n_data = n_data[n_data['texture']==texture]\n",
    "    max_val = n_data['psnr'].max()\n",
    "    return n_data[data['psnr']==max_val]['alpha'].values[0], max_val"
   ]
  },
  {
   "cell_type": "code",
   "execution_count": 63,
   "metadata": {
    "scrolled": true
   },
   "outputs": [
    {
     "name": "stdout",
     "output_type": "stream",
     "text": [
      "noisy5\n",
      "\t text_0 : (0.0, 36.09343)\n",
      "\t text_1 : (0.0, 33.89608)\n",
      "\t text_2 : (0.0, 33.42791)\n",
      "\t text_3 : (0.0, 33.09021)\n",
      "\t text_4 : (0.0, 32.94535)\n",
      "noisy10\n",
      "\t text_0 : (0.0, 35.95738)\n",
      "\t text_1 : (0.0, 33.758359999999996)\n",
      "\t text_2 : (0.0, 32.81408)\n",
      "\t text_3 : (0.0, 32.26148)\n",
      "\t text_4 : (0.0, 31.62073)\n",
      "noisy15\n",
      "\t text_0 : (0.0, 35.15399)\n",
      "\t text_1 : (0.0, 32.933890000000005)\n",
      "\t text_2 : (0.0, 31.83892)\n",
      "\t text_3 : (0.0, 30.83408)\n",
      "\t text_4 : (0.0, 30.011290000000002)\n",
      "noisy25\n",
      "\t text_0 : (0.2, 33.43046)\n",
      "\t text_1 : (0.2, 31.4521)\n",
      "\t text_2 : (0.2, 29.724109999999996)\n",
      "\t text_3 : (0.2, 28.469109999999997)\n",
      "\t text_4 : (0.2, 27.15847)\n",
      "noisy35\n",
      "\t text_0 : (0.3, 32.10003)\n",
      "\t text_1 : (0.3, 29.720229999999997)\n",
      "\t text_2 : (0.4, 28.08496)\n",
      "\t text_3 : (0.4, 27.235540000000004)\n",
      "\t text_4 : (0.4, 26.58687)\n",
      "noisy50\n",
      "\t text_0 : (1.0, 31.16702)\n",
      "\t text_1 : (0.5, 26.225659999999998)\n",
      "\t text_2 : (0.6, 25.24532)\n",
      "\t text_3 : (0.6, 25.5314)\n",
      "\t text_4 : (0.6, 26.17896)\n"
     ]
    },
    {
     "name": "stderr",
     "output_type": "stream",
     "text": [
      "c:\\python\\python37\\lib\\site-packages\\ipykernel_launcher.py:5: UserWarning: Boolean Series key will be reindexed to match DataFrame index.\n",
      "  \"\"\"\n"
     ]
    }
   ],
   "source": [
    "noises = list(np.unique(data['noise']))\n",
    "noises.sort(key=lambda x:int(x[5:]))\n",
    "\n",
    "for n in noises:\n",
    "    print(n)\n",
    "    for t in list(np.unique(data['texture'])):\n",
    "        print('\\t',t,\":\",bestAlphaPSNR(data,n,t))\n",
    "\n"
   ]
  },
  {
   "cell_type": "code",
   "execution_count": 64,
   "metadata": {},
   "outputs": [
    {
     "name": "stdout",
     "output_type": "stream",
     "text": [
      "noisy10\n",
      "\t text_0 : (0.0, 34.03322)\n",
      "\t text_1 : (0.0, 33.47619)\n",
      "\t text_2 : (0.0, 35.63194)\n",
      "\t text_3 : (0.0, 33.535470000000004)\n",
      "\t text_4 : (0.0, 34.20588)\n",
      "noisy15\n",
      "\t text_0 : (0.0, 32.1279)\n",
      "\t text_1 : (0.0, 34.151740000000004)\n",
      "\t text_2 : (0.0, 32.2616)\n",
      "\t text_3 : (0.0, 33.34604)\n",
      "\t text_4 : (0.0, 33.09816)\n",
      "noisy25\n",
      "\t text_0 : (0.2, 29.8695)\n",
      "\t text_1 : (0.2, 30.59548)\n"
     ]
    },
    {
     "name": "stderr",
     "output_type": "stream",
     "text": [
      "c:\\python\\python37\\lib\\site-packages\\ipykernel_launcher.py:5: UserWarning: Boolean Series key will be reindexed to match DataFrame index.\n",
      "  \"\"\"\n"
     ]
    },
    {
     "ename": "IndexError",
     "evalue": "index 0 is out of bounds for axis 0 with size 0",
     "output_type": "error",
     "traceback": [
      "\u001b[1;31m---------------------------------------------------------------------------\u001b[0m",
      "\u001b[1;31mIndexError\u001b[0m                                Traceback (most recent call last)",
      "\u001b[1;32m<ipython-input-64-6fa797753330>\u001b[0m in \u001b[0;36m<module>\u001b[1;34m\u001b[0m\n\u001b[0;32m      7\u001b[0m     \u001b[0mprint\u001b[0m\u001b[1;33m(\u001b[0m\u001b[0mn\u001b[0m\u001b[1;33m)\u001b[0m\u001b[1;33m\u001b[0m\u001b[1;33m\u001b[0m\u001b[0m\n\u001b[0;32m      8\u001b[0m     \u001b[1;32mfor\u001b[0m \u001b[0mt\u001b[0m \u001b[1;32min\u001b[0m \u001b[0mlist\u001b[0m\u001b[1;33m(\u001b[0m\u001b[0mnp\u001b[0m\u001b[1;33m.\u001b[0m\u001b[0munique\u001b[0m\u001b[1;33m(\u001b[0m\u001b[0mdata\u001b[0m\u001b[1;33m[\u001b[0m\u001b[1;34m'texture'\u001b[0m\u001b[1;33m]\u001b[0m\u001b[1;33m)\u001b[0m\u001b[1;33m)\u001b[0m\u001b[1;33m:\u001b[0m\u001b[1;33m\u001b[0m\u001b[1;33m\u001b[0m\u001b[0m\n\u001b[1;32m----> 9\u001b[1;33m         \u001b[0mprint\u001b[0m\u001b[1;33m(\u001b[0m\u001b[1;34m'\\t'\u001b[0m\u001b[1;33m,\u001b[0m\u001b[0mt\u001b[0m\u001b[1;33m,\u001b[0m\u001b[1;34m\":\"\u001b[0m\u001b[1;33m,\u001b[0m\u001b[0mbestAlphaPSNR\u001b[0m\u001b[1;33m(\u001b[0m\u001b[0mdata\u001b[0m\u001b[1;33m,\u001b[0m\u001b[0mn\u001b[0m\u001b[1;33m,\u001b[0m\u001b[0mt\u001b[0m\u001b[1;33m)\u001b[0m\u001b[1;33m)\u001b[0m\u001b[1;33m\u001b[0m\u001b[1;33m\u001b[0m\u001b[0m\n\u001b[0m",
      "\u001b[1;32m<ipython-input-62-7180a769faa0>\u001b[0m in \u001b[0;36mbestAlphaPSNR\u001b[1;34m(df, noise, texture)\u001b[0m\n\u001b[0;32m      3\u001b[0m     \u001b[0mn_data\u001b[0m \u001b[1;33m=\u001b[0m \u001b[0mn_data\u001b[0m\u001b[1;33m[\u001b[0m\u001b[0mn_data\u001b[0m\u001b[1;33m[\u001b[0m\u001b[1;34m'texture'\u001b[0m\u001b[1;33m]\u001b[0m\u001b[1;33m==\u001b[0m\u001b[0mtexture\u001b[0m\u001b[1;33m]\u001b[0m\u001b[1;33m\u001b[0m\u001b[1;33m\u001b[0m\u001b[0m\n\u001b[0;32m      4\u001b[0m     \u001b[0mmax_val\u001b[0m \u001b[1;33m=\u001b[0m \u001b[0mn_data\u001b[0m\u001b[1;33m[\u001b[0m\u001b[1;34m'psnr'\u001b[0m\u001b[1;33m]\u001b[0m\u001b[1;33m.\u001b[0m\u001b[0mmax\u001b[0m\u001b[1;33m(\u001b[0m\u001b[1;33m)\u001b[0m\u001b[1;33m\u001b[0m\u001b[1;33m\u001b[0m\u001b[0m\n\u001b[1;32m----> 5\u001b[1;33m     \u001b[1;32mreturn\u001b[0m \u001b[0mn_data\u001b[0m\u001b[1;33m[\u001b[0m\u001b[0mdata\u001b[0m\u001b[1;33m[\u001b[0m\u001b[1;34m'psnr'\u001b[0m\u001b[1;33m]\u001b[0m\u001b[1;33m==\u001b[0m\u001b[0mmax_val\u001b[0m\u001b[1;33m]\u001b[0m\u001b[1;33m[\u001b[0m\u001b[1;34m'alpha'\u001b[0m\u001b[1;33m]\u001b[0m\u001b[1;33m.\u001b[0m\u001b[0mvalues\u001b[0m\u001b[1;33m[\u001b[0m\u001b[1;36m0\u001b[0m\u001b[1;33m]\u001b[0m\u001b[1;33m,\u001b[0m \u001b[0mmax_val\u001b[0m\u001b[1;33m\u001b[0m\u001b[1;33m\u001b[0m\u001b[0m\n\u001b[0m",
      "\u001b[1;31mIndexError\u001b[0m: index 0 is out of bounds for axis 0 with size 0"
     ]
    }
   ],
   "source": [
    "data = pd.read_csv('results/patch_test_dct/summary.txt',sep='\\t')\n",
    "\n",
    "noises = list(np.unique(data['noise']))\n",
    "noises.sort(key=lambda x:int(x[5:]))\n",
    "\n",
    "for n in noises:\n",
    "    print(n)\n",
    "    for t in list(np.unique(data['texture'])):\n",
    "        print('\\t',t,\":\",bestAlphaPSNR(data,n,t))\n"
   ]
  }
 ],
 "metadata": {
  "kernelspec": {
   "display_name": "Python 3",
   "language": "python",
   "name": "python3"
  },
  "language_info": {
   "codemirror_mode": {
    "name": "ipython",
    "version": 3
   },
   "file_extension": ".py",
   "mimetype": "text/x-python",
   "name": "python",
   "nbconvert_exporter": "python",
   "pygments_lexer": "ipython3",
   "version": "3.7.5"
  }
 },
 "nbformat": 4,
 "nbformat_minor": 2
}
